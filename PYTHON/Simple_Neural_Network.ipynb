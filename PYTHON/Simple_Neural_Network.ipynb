{
 "cells": [
  {
   "cell_type": "code",
   "execution_count": null,
   "id": "d211ead0",
   "metadata": {},
   "outputs": [],
   "source": [
    "# Libraries\n",
    "import numpy as np\n",
    "import matplotlib.pyplot as plt\n",
    "from keras.models import Sequential\n",
    "from keras.layers.core import Dense"
   ]
  },
  {
   "cell_type": "code",
   "execution_count": null,
   "id": "0bc056e1",
   "metadata": {},
   "outputs": [],
   "source": [
    "# Creating Datasets\n",
    "training_data = np.array([[0,0,0],[0,1,1],[1,0,1],[1,1,0]], \"float32\")\n",
    "target_data = np.array([[0],[1],[1],[0]], \"float32\")"
   ]
  },
  {
   "cell_type": "code",
   "execution_count": null,
   "id": "650ea375",
   "metadata": {},
   "outputs": [],
   "source": [
    "# Model Specifications (Low Learning Cycles)\n",
    "model = Sequential()\n",
    "model.add(Dense(16, input_dim=3, activation='relu')) # Activation Functions: \"relu\", \"tanh\" und \"sigmoid\" \n",
    "model.add(Dense(1, activation='sigmoid'))\n",
    "model.compile(loss='mean_squared_error',\n",
    "                       optimizer='adam',\n",
    "                       metrics=['binary_accuracy'])\n",
    "model.fit(training_data, target_data, epochs=15)     # 15 Learning Cycles (!)\n",
    "scores = model.evaluate(training_data, target_data)"
   ]
  },
  {
   "cell_type": "code",
   "execution_count": null,
   "id": "22199a24",
   "metadata": {},
   "outputs": [],
   "source": [
    "# Print Outcome\n",
    "print(\"\\n%s: %.2f%%\" % (model.metrics_names[1], scores[1]*100))\n",
    "print (model.predict(training_data).round())"
   ]
  },
  {
   "cell_type": "code",
   "execution_count": null,
   "id": "2d8f06fc",
   "metadata": {},
   "outputs": [],
   "source": [
    "# Model Specifications (High Learning Cycles)\n",
    "model = Sequential()\n",
    "model.add(Dense(16, input_dim=3, activation='relu'))\n",
    "model.add(Dense(1, activation='sigmoid'))\n",
    "model.compile(loss='mean_squared_error',\n",
    "                       optimizer='adam',\n",
    "                       metrics=['binary_accuracy'])\n",
    "history = model.fit(training_data, target_data, epochs=150)     # 150 Learning Cycles (!)\n",
    "scores = model.evaluate(training_data, target_data)"
   ]
  },
  {
   "cell_type": "code",
   "execution_count": null,
   "id": "b52c998b",
   "metadata": {},
   "outputs": [],
   "source": [
    "# Print Outcome\n",
    "print(\"\\n%s: %.2f%%\" % (model.metrics_names[1], scores[1]*100))\n",
    "print (model.predict(training_data).round())"
   ]
  },
  {
   "cell_type": "code",
   "execution_count": null,
   "id": "9f225d7f",
   "metadata": {},
   "outputs": [],
   "source": [
    "# Plot Accuracy \n",
    "plt.plot(history.history['binary_accuracy'])\n",
    "plt.plot(history.history['loss'])\n",
    "plt.show()"
   ]
  },
  {
   "cell_type": "code",
   "execution_count": null,
   "id": "24abed7d",
   "metadata": {},
   "outputs": [],
   "source": []
  }
 ],
 "metadata": {
  "kernelspec": {
   "display_name": "Python 3 (ipykernel)",
   "language": "python",
   "name": "python3"
  },
  "language_info": {
   "codemirror_mode": {
    "name": "ipython",
    "version": 3
   },
   "file_extension": ".py",
   "mimetype": "text/x-python",
   "name": "python",
   "nbconvert_exporter": "python",
   "pygments_lexer": "ipython3",
   "version": "3.10.4"
  }
 },
 "nbformat": 4,
 "nbformat_minor": 5
}

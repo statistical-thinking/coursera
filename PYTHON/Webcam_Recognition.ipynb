{
 "cells": [
  {
   "cell_type": "code",
   "execution_count": null,
   "id": "22a2d1a2",
   "metadata": {},
   "outputs": [],
   "source": [
    "# Libraries\n",
    "import cv2"
   ]
  },
  {
   "cell_type": "code",
   "execution_count": null,
   "id": "75f717c4",
   "metadata": {},
   "outputs": [],
   "source": [
    "# Enable Camera Module\n",
    "cap = cv2.VideoCapture(0)\n",
    "cap.set(3, 640)\n",
    "cap.set(4, 480)"
   ]
  },
  {
   "cell_type": "code",
   "execution_count": null,
   "id": "fa6edfc5",
   "metadata": {},
   "outputs": [],
   "source": [
    "# Import Cascade for Objects of Relevance\n",
    "faceCascade = cv2.CascadeClassifier(cv2.data.haarcascades + \"haarcascade_frontalface_default.xml\")\n",
    "eyeCascade = cv2.CascadeClassifier(cv2.data.haarcascades + \"haarcascade_eye_tree_eyeglasses.xml\")"
   ]
  },
  {
   "cell_type": "code",
   "execution_count": null,
   "id": "6b3a64de",
   "metadata": {},
   "outputs": [],
   "source": [
    "# Specify Parameters\n",
    "while True:\n",
    "    success, img = cap.read()\n",
    "    imgGray = cv2.cvtColor(img, cv2.COLOR_BGR2GRAY)\n",
    "\n",
    "    # Getting corners around the face\n",
    "    faces = faceCascade.detectMultiScale(imgGray, 1.3, 5)  # 1.3 = scale factor, 5 = minimum neighbor\n",
    "    # drawing bounding box around face\n",
    "    for (x, y, w, h) in faces:\n",
    "        img = cv2.rectangle(img, (x, y), (x + w, y + h), (0, 255, 0), 3)\n",
    "    # drawing bounding box around eyes\n",
    "    eyes = eyeCascade.detectMultiScale(imgGray)\n",
    "    for (ex, ey, ew, eh) in eyes:\n",
    "        img = cv2.rectangle(img, (ex, ey), (ex+ew, ey+eh), (255, 0, 0), 3)\n",
    "\n",
    "    cv2.imshow('face_detect', img)\n",
    "    if cv2.waitKey(10) & 0xFF == ord('q'):\n",
    "        break\n",
    "cap.release()\n",
    "cv2.destroyWindow('face_detect')"
   ]
  },
  {
   "cell_type": "code",
   "execution_count": null,
   "id": "c7c0b986",
   "metadata": {},
   "outputs": [],
   "source": []
  }
 ],
 "metadata": {
  "kernelspec": {
   "display_name": "Python 3 (ipykernel)",
   "language": "python",
   "name": "python3"
  },
  "language_info": {
   "codemirror_mode": {
    "name": "ipython",
    "version": 3
   },
   "file_extension": ".py",
   "mimetype": "text/x-python",
   "name": "python",
   "nbconvert_exporter": "python",
   "pygments_lexer": "ipython3",
   "version": "3.10.4"
  }
 },
 "nbformat": 4,
 "nbformat_minor": 5
}

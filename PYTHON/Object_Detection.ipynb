{
 "cells": [
  {
   "cell_type": "code",
   "execution_count": null,
   "id": "684cb321",
   "metadata": {},
   "outputs": [],
   "source": [
    "# Libraries\n",
    "from gluoncv import model_zoo, data, utils\n",
    "from matplotlib import pyplot as plt"
   ]
  },
  {
   "cell_type": "code",
   "execution_count": null,
   "id": "9391beb4",
   "metadata": {},
   "outputs": [],
   "source": [
    "# Downloading Pretrained Model\n",
    "net = model_zoo.get_model('yolo3_darknet53_voc', pretrained=True)"
   ]
  },
  {
   "cell_type": "code",
   "execution_count": null,
   "id": "af84055e",
   "metadata": {},
   "outputs": [],
   "source": [
    "# Setting Example Image\n",
    "im_fname ='Object_Detection_Image.jpg'\n",
    "x, img = data.transforms.presets.yolo.load_test(im_fname, short=512)\n",
    "print('Shape of pre-processed image:', x.shape)"
   ]
  },
  {
   "cell_type": "code",
   "execution_count": null,
   "id": "27560f47",
   "metadata": {},
   "outputs": [],
   "source": [
    "# Plotting Finale Image    \n",
    "class_IDs, scores, bounding_boxs = net(x)\n",
    "ax = utils.viz.plot_bbox(img, bounding_boxs[0], scores[0],\n",
    "                         class_IDs[0], class_names=net.classes)\n",
    "plt.show()"
   ]
  },
  {
   "cell_type": "code",
   "execution_count": null,
   "id": "6af21d6c",
   "metadata": {},
   "outputs": [],
   "source": []
  }
 ],
 "metadata": {
  "kernelspec": {
   "display_name": "Python 3 (ipykernel)",
   "language": "python",
   "name": "python3"
  },
  "language_info": {
   "codemirror_mode": {
    "name": "ipython",
    "version": 3
   },
   "file_extension": ".py",
   "mimetype": "text/x-python",
   "name": "python",
   "nbconvert_exporter": "python",
   "pygments_lexer": "ipython3",
   "version": "3.10.4"
  }
 },
 "nbformat": 4,
 "nbformat_minor": 5
}
